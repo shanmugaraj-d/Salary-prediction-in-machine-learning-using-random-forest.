{
  "nbformat": 4,
  "nbformat_minor": 0,
  "metadata": {
    "colab": {
      "provenance": [],
      "gpuType": "T4"
    },
    "kernelspec": {
      "name": "python3",
      "display_name": "Python 3"
    },
    "language_info": {
      "name": "python"
    },
    "accelerator": "GPU"
  },
  "cells": [
    {
      "cell_type": "code",
      "execution_count": null,
      "metadata": {
        "id": "Batk_hsLY8YU"
      },
      "outputs": [],
      "source": [
        "# Step 1: Import Required Libraries\n",
        "import pandas as pd\n",
        "import numpy as np\n",
        "import matplotlib.pyplot as plt\n",
        "import seaborn as sns\n",
        "\n",
        "from sklearn.preprocessing import LabelEncoder, StandardScaler\n",
        "from sklearn.model_selection import train_test_split, RandomizedSearchCV\n",
        "from sklearn.ensemble import RandomForestClassifier, ExtraTreesClassifier\n",
        "from sklearn.metrics import accuracy_score, f1_score, confusion_matrix, classification_report\n",
        "from imblearn.over_sampling import RandomOverSampler"
      ]
    },
    {
      "cell_type": "code",
      "source": [
        "# Step 2: Load Dataset\n",
        "dataset = pd.read_csv('adult.csv')\n",
        "print(dataset.head())\n",
        "print('Rows:', dataset.shape[0], 'Columns:', dataset.shape[1])"
      ],
      "metadata": {
        "colab": {
          "base_uri": "https://localhost:8080/"
        },
        "id": "IsGpGhpmZKa1",
        "outputId": "c38f317b-4712-4370-9599-605eaa207a85"
      },
      "execution_count": null,
      "outputs": [
        {
          "output_type": "stream",
          "name": "stdout",
          "text": [
            "   age  workclass  fnlwgt     education  educational-num      marital-status  \\\n",
            "0   25    Private  226802          11th                7       Never-married   \n",
            "1   38    Private   89814       HS-grad                9  Married-civ-spouse   \n",
            "2   28  Local-gov  336951    Assoc-acdm               12  Married-civ-spouse   \n",
            "3   44    Private  160323  Some-college               10  Married-civ-spouse   \n",
            "4   18          ?  103497  Some-college               10       Never-married   \n",
            "\n",
            "          occupation relationship   race  gender  capital-gain  capital-loss  \\\n",
            "0  Machine-op-inspct    Own-child  Black    Male             0             0   \n",
            "1    Farming-fishing      Husband  White    Male             0             0   \n",
            "2    Protective-serv      Husband  White    Male             0             0   \n",
            "3  Machine-op-inspct      Husband  Black    Male          7688             0   \n",
            "4                  ?    Own-child  White  Female             0             0   \n",
            "\n",
            "   hours-per-week native-country income  \n",
            "0              40  United-States  <=50K  \n",
            "1              50  United-States  <=50K  \n",
            "2              40  United-States   >50K  \n",
            "3              40  United-States   >50K  \n",
            "4              30  United-States  <=50K  \n",
            "Rows: 48842 Columns: 15\n"
          ]
        }
      ]
    },
    {
      "cell_type": "code",
      "source": [
        "# Step 3: Data Info and Null Checks\n",
        "dataset.info()\n",
        "print(dataset.describe().T)\n",
        "\n",
        "# Check for null values and missing '?' values\n",
        "print(round((dataset.isnull().sum() / dataset.shape[0]) * 100, 2).astype(str) + ' %')\n",
        "print(round((dataset.isin(['?']).sum() / dataset.shape[0]) * 100, 2).astype(str) + ' %')"
      ],
      "metadata": {
        "colab": {
          "base_uri": "https://localhost:8080/"
        },
        "id": "CX_7V0uBZQlH",
        "outputId": "e47551c7-a1ad-4170-a078-9309e81b85a2"
      },
      "execution_count": null,
      "outputs": [
        {
          "output_type": "stream",
          "name": "stdout",
          "text": [
            "<class 'pandas.core.frame.DataFrame'>\n",
            "RangeIndex: 48842 entries, 0 to 48841\n",
            "Data columns (total 15 columns):\n",
            " #   Column           Non-Null Count  Dtype \n",
            "---  ------           --------------  ----- \n",
            " 0   age              48842 non-null  int64 \n",
            " 1   workclass        48842 non-null  object\n",
            " 2   fnlwgt           48842 non-null  int64 \n",
            " 3   education        48842 non-null  object\n",
            " 4   educational-num  48842 non-null  int64 \n",
            " 5   marital-status   48842 non-null  object\n",
            " 6   occupation       48842 non-null  object\n",
            " 7   relationship     48842 non-null  object\n",
            " 8   race             48842 non-null  object\n",
            " 9   gender           48842 non-null  object\n",
            " 10  capital-gain     48842 non-null  int64 \n",
            " 11  capital-loss     48842 non-null  int64 \n",
            " 12  hours-per-week   48842 non-null  int64 \n",
            " 13  native-country   48842 non-null  object\n",
            " 14  income           48842 non-null  object\n",
            "dtypes: int64(6), object(9)\n",
            "memory usage: 5.6+ MB\n",
            "                   count           mean            std      min       25%  \\\n",
            "age              48842.0      38.643585      13.710510     17.0      28.0   \n",
            "fnlwgt           48842.0  189664.134597  105604.025423  12285.0  117550.5   \n",
            "educational-num  48842.0      10.078089       2.570973      1.0       9.0   \n",
            "capital-gain     48842.0    1079.067626    7452.019058      0.0       0.0   \n",
            "capital-loss     48842.0      87.502314     403.004552      0.0       0.0   \n",
            "hours-per-week   48842.0      40.422382      12.391444      1.0      40.0   \n",
            "\n",
            "                      50%       75%        max  \n",
            "age                  37.0      48.0       90.0  \n",
            "fnlwgt           178144.5  237642.0  1490400.0  \n",
            "educational-num      10.0      12.0       16.0  \n",
            "capital-gain          0.0       0.0    99999.0  \n",
            "capital-loss          0.0       0.0     4356.0  \n",
            "hours-per-week       40.0      45.0       99.0  \n",
            "age                0.0 %\n",
            "workclass          0.0 %\n",
            "fnlwgt             0.0 %\n",
            "education          0.0 %\n",
            "educational-num    0.0 %\n",
            "marital-status     0.0 %\n",
            "occupation         0.0 %\n",
            "relationship       0.0 %\n",
            "race               0.0 %\n",
            "gender             0.0 %\n",
            "capital-gain       0.0 %\n",
            "capital-loss       0.0 %\n",
            "hours-per-week     0.0 %\n",
            "native-country     0.0 %\n",
            "income             0.0 %\n",
            "dtype: object\n",
            "age                 0.0 %\n",
            "workclass          5.73 %\n",
            "fnlwgt              0.0 %\n",
            "education           0.0 %\n",
            "educational-num     0.0 %\n",
            "marital-status      0.0 %\n",
            "occupation         5.75 %\n",
            "relationship        0.0 %\n",
            "race                0.0 %\n",
            "gender              0.0 %\n",
            "capital-gain        0.0 %\n",
            "capital-loss        0.0 %\n",
            "hours-per-week      0.0 %\n",
            "native-country     1.75 %\n",
            "income              0.0 %\n",
            "dtype: object\n"
          ]
        }
      ]
    },
    {
      "cell_type": "code",
      "source": [
        "# Step 4: Check Target Balance\n",
        "income_dist = dataset['income'].value_counts(normalize=True)\n",
        "print(round(income_dist * 100, 2).astype(str) + ' %')"
      ],
      "metadata": {
        "colab": {
          "base_uri": "https://localhost:8080/"
        },
        "id": "teVmRUEnZZQZ",
        "outputId": "833a8d1d-af3a-4fb5-9af2-a658561c0241"
      },
      "execution_count": null,
      "outputs": [
        {
          "output_type": "stream",
          "name": "stdout",
          "text": [
            "income\n",
            "<=50K    76.07 %\n",
            ">50K     23.93 %\n",
            "Name: proportion, dtype: object\n"
          ]
        }
      ]
    },
    {
      "cell_type": "code",
      "source": [
        "# Step 5: Replace '?' with np.nan and handle missing values\n",
        "dataset = dataset.replace('?', np.nan)\n",
        "columns_with_nan = dataset.columns[dataset.isnull().any()].tolist()\n",
        "\n",
        "for col in columns_with_nan:\n",
        "    dataset[col] = dataset[col].fillna(dataset[col].mode()[0])\n"
      ],
      "metadata": {
        "id": "ayvsn2FFZcWD"
      },
      "execution_count": 27,
      "outputs": []
    },
    {
      "cell_type": "code",
      "source": [
        "# Step 6: Encode Categorical Features\n",
        "for col in dataset.columns:\n",
        "    if dataset[col].dtypes == 'object':\n",
        "        encoder = LabelEncoder()\n",
        "        dataset[col] = encoder.fit_transform(dataset[col])"
      ],
      "metadata": {
        "id": "FtF-4WM0Zfsm"
      },
      "execution_count": null,
      "outputs": []
    },
    {
      "cell_type": "code",
      "source": [
        "# Step 7: Feature and Target Split\n",
        "X = dataset.drop('income', axis=1)\n",
        "Y = dataset['income']"
      ],
      "metadata": {
        "id": "39jRfC-lZUnF"
      },
      "execution_count": null,
      "outputs": []
    },
    {
      "cell_type": "code",
      "source": [
        "# Step 8: Feature Importance (Optional but helpful)\n",
        "selector = ExtraTreesClassifier(random_state=42)\n",
        "selector.fit(X, Y)\n",
        "feature_imp = selector.feature_importances_\n",
        "for index, val in enumerate(feature_imp):\n",
        "    print(f\"{X.columns[index]}: {round(val * 100, 2)}%\")"
      ],
      "metadata": {
        "colab": {
          "base_uri": "https://localhost:8080/"
        },
        "id": "wMoNdHZjZjAP",
        "outputId": "fa37cfdc-c6f2-4a60-db9b-f9bcdb1e9408"
      },
      "execution_count": null,
      "outputs": [
        {
          "output_type": "stream",
          "name": "stdout",
          "text": [
            "age: 15.75%\n",
            "workclass: 3.88%\n",
            "fnlwgt: 17.64%\n",
            "education: 3.78%\n",
            "educational-num: 8.34%\n",
            "marital-status: 7.27%\n",
            "occupation: 7.05%\n",
            "relationship: 9.01%\n",
            "race: 1.41%\n",
            "gender: 2.96%\n",
            "capital-gain: 8.9%\n",
            "capital-loss: 2.89%\n",
            "hours-per-week: 9.58%\n",
            "native-country: 1.54%\n"
          ]
        }
      ]
    },
    {
      "cell_type": "code",
      "source": [
        "# Step 9: Drop Less Important Features (safely)\n",
        "cols_to_drop = ['workclass', 'education', 'race', 'sex', 'capital.loss', 'native.country']\n",
        "existing_cols_to_drop = list(set(cols_to_drop) & set(X.columns))\n",
        "X = X.drop(existing_cols_to_drop, axis=1)\n",
        "print(\"Dropped columns:\", existing_cols_to_drop)"
      ],
      "metadata": {
        "colab": {
          "base_uri": "https://localhost:8080/"
        },
        "id": "MFKIvESJZrXA",
        "outputId": "f312763c-fcde-46a9-d9a7-8c57cb4e9c65"
      },
      "execution_count": null,
      "outputs": [
        {
          "output_type": "stream",
          "name": "stdout",
          "text": [
            "Dropped columns: ['education', 'race', 'workclass']\n"
          ]
        }
      ]
    },
    {
      "cell_type": "code",
      "source": [
        "# Step 10: Feature Scaling\n",
        "scaler = StandardScaler()\n",
        "X = pd.DataFrame(scaler.fit_transform(X), columns=X.columns)"
      ],
      "metadata": {
        "id": "AcCKmoi3aVb4"
      },
      "execution_count": null,
      "outputs": []
    },
    {
      "cell_type": "code",
      "source": [
        "# Step 11: Handle Class Imbalance\n",
        "ros = RandomOverSampler(random_state=42)\n",
        "X_resampled, Y_resampled = ros.fit_resample(X, Y)\n",
        "print(round(Y_resampled.value_counts(normalize=True) * 100, 2).astype(str) + ' %')"
      ],
      "metadata": {
        "colab": {
          "base_uri": "https://localhost:8080/"
        },
        "id": "YJ2CmZ9KahFC",
        "outputId": "305ddc1b-0bcf-4219-95a9-b16589889f3c"
      },
      "execution_count": null,
      "outputs": [
        {
          "output_type": "stream",
          "name": "stdout",
          "text": [
            "income\n",
            "0    50.0 %\n",
            "1    50.0 %\n",
            "Name: proportion, dtype: object\n"
          ]
        }
      ]
    },
    {
      "cell_type": "code",
      "source": [
        "# Step 12: Train-Test Split\n",
        "X_train, X_test, Y_train, Y_test = train_test_split(X_resampled, Y_resampled, test_size=0.2, random_state=42)\n",
        "print(\"X_train:\", X_train.shape, \"X_test:\", X_test.shape)"
      ],
      "metadata": {
        "colab": {
          "base_uri": "https://localhost:8080/"
        },
        "id": "kov1aRfZajPY",
        "outputId": "935d762a-5a91-468d-fd3c-0c300d51407d"
      },
      "execution_count": null,
      "outputs": [
        {
          "output_type": "stream",
          "name": "stdout",
          "text": [
            "X_train: (59448, 11) X_test: (14862, 11)\n"
          ]
        }
      ]
    },
    {
      "cell_type": "code",
      "source": [
        "# Step 13: Base Random Forest Model\n",
        "rf = RandomForestClassifier(random_state=42)\n",
        "rf.fit(X_train, Y_train)\n",
        "Y_pred_rf = rf.predict(X_test)\n",
        "\n",
        "print(\"Random Forest Classifier (Base Model):\")\n",
        "print(\"Accuracy:\", round(accuracy_score(Y_test, Y_pred_rf) * 100, 2))\n",
        "print(\"F1 Score:\", round(f1_score(Y_test, Y_pred_rf) * 100, 2))"
      ],
      "metadata": {
        "colab": {
          "base_uri": "https://localhost:8080/"
        },
        "id": "zkXrpoxXal7Z",
        "outputId": "677d2ba4-a1c8-4707-f5cd-3d45b2d12122"
      },
      "execution_count": null,
      "outputs": [
        {
          "output_type": "stream",
          "name": "stdout",
          "text": [
            "Random Forest Classifier (Base Model):\n",
            "Accuracy: 93.48\n",
            "F1 Score: 93.76\n"
          ]
        }
      ]
    },
    {
      "cell_type": "code",
      "source": [
        "# Step 14: Hyperparameter Tuning\n",
        "n_estimators = [int(x) for x in np.linspace(40, 150, 15)]\n",
        "max_depth = [int(x) for x in np.linspace(40, 150, 15)]\n",
        "param_dist = {'n_estimators': n_estimators, 'max_depth': max_depth}\n",
        "\n",
        "rf_tuned = RandomForestClassifier(random_state=42)\n",
        "rf_cv = RandomizedSearchCV(rf_tuned, param_distributions=param_dist, cv=5, random_state=42, n_iter=10)\n",
        "rf_cv.fit(X_train, Y_train)\n",
        "\n",
        "print(\"Best Cross-Validation Score:\", round(rf_cv.best_score_ * 100, 2))\n",
        "print(\"Best Parameters:\", rf_cv.best_params_)"
      ],
      "metadata": {
        "id": "3h99i4-RaoMe"
      },
      "execution_count": null,
      "outputs": []
    },
    {
      "cell_type": "code",
      "source": [
        "# Step 15: Final Model with Best Params\n",
        "best_params = rf_cv.best_params_\n",
        "rf_best = RandomForestClassifier(**best_params, random_state=42)\n",
        "rf_best.fit(X_train, Y_train)\n",
        "Y_pred_best = rf_best.predict(X_test)\n",
        "\n",
        "print(\"Random Forest Classifier (Tuned):\")\n",
        "print(\"Accuracy:\", round(accuracy_score(Y_test, Y_pred_best) * 100, 2))\n",
        "print(\"F1 Score:\", round(f1_score(Y_test, Y_pred_best) * 100, 2))"
      ],
      "metadata": {
        "id": "OuUynOHsaqhp",
        "colab": {
          "base_uri": "https://localhost:8080/"
        },
        "outputId": "5bd4d0ae-9f39-4088-c08e-551280582e6f"
      },
      "execution_count": 25,
      "outputs": [
        {
          "metadata": {
            "tags": null
          },
          "name": "stdout",
          "output_type": "stream",
          "text": [
            "Random Forest Classifier (Tuned):\n",
            "Accuracy: 93.47\n",
            "F1 Score: 93.75\n"
          ]
        }
      ]
    },
    {
      "cell_type": "code",
      "source": [
        "# Step 16: Confusion Matrix & Classification Report\n",
        "print(\"Confusion Matrix:\\n\", confusion_matrix(Y_test, Y_pred_best))\n",
        "print(\"Classification Report:\\n\", classification_report(Y_test, Y_pred_best))"
      ],
      "metadata": {
        "id": "PaWtF2EcatPe",
        "colab": {
          "base_uri": "https://localhost:8080/"
        },
        "outputId": "6a03c35e-4c2f-4125-9af8-a7c20a02372e"
      },
      "execution_count": 26,
      "outputs": [
        {
          "metadata": {
            "tags": null
          },
          "name": "stdout",
          "output_type": "stream",
          "text": [
            "Confusion Matrix:\n",
            " [[6612  822]\n",
            " [ 148 7280]]\n",
            "Classification Report:\n",
            "               precision    recall  f1-score   support\n",
            "\n",
            "           0       0.98      0.89      0.93      7434\n",
            "           1       0.90      0.98      0.94      7428\n",
            "\n",
            "    accuracy                           0.93     14862\n",
            "   macro avg       0.94      0.93      0.93     14862\n",
            "weighted avg       0.94      0.93      0.93     14862\n",
            "\n"
          ]
        }
      ]
    }
  ]
}